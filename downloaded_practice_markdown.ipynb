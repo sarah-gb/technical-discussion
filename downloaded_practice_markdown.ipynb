{
  "nbformat": 4,
  "nbformat_minor": 0,
  "metadata": {
    "colab": {
      "provenance": []
    },
    "kernelspec": {
      "name": "python3",
      "display_name": "Python 3"
    },
    "language_info": {
      "name": "python"
    }
  },
  "cells": [
    {
      "cell_type": "markdown",
      "source": [
        "# Markdown Practice"
      ],
      "metadata": {
        "id": "zj0wxR00f3XI"
      }
    },
    {
      "cell_type": "markdown",
      "source": [
        "## Test some formatting options:\n",
        "\n",
        "* First\n",
        "* Second\n",
        "* Third\n"
      ],
      "metadata": {
        "id": "voFA9iXagpK8"
      }
    },
    {
      "cell_type": "code",
      "execution_count": 1,
      "metadata": {
        "colab": {
          "base_uri": "https://localhost:8080/"
        },
        "id": "hRz5_dVJfq8O",
        "outputId": "7697f6c6-b051-40c7-e8db-9a814d7eef27"
      },
      "outputs": [
        {
          "output_type": "stream",
          "name": "stdout",
          "text": [
            "Hello World !\n"
          ]
        }
      ],
      "source": [
        "print(\"Hello World !\")"
      ]
    }
  ]
}